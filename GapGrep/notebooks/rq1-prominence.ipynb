{
 "cells": [
  {
   "cell_type": "markdown",
   "metadata": {},
   "source": [
    "# RQ1: Prominence"
   ]
  },
  {
   "cell_type": "code",
   "execution_count": null,
   "metadata": {},
   "outputs": [],
   "source": [
    "import csv\n",
    "from pathlib import Path\n",
    "import numpy as np\n",
    "import pandas as pd\n",
    "\n",
    "def read_project_list(path):\n",
    "    project_list_path = path\n",
    "    with open(project_list_path, \"r\") as project_list_csv:\n",
    "\n",
    "        csv_reader = csv.DictReader(project_list_csv)\n",
    "        project_dict = [row for row in csv_reader]\n",
    "\n",
    "\n",
    "        project_list = []\n",
    "\n",
    "        for project in project_dict:\n",
    "            if project[\"active\"] == \"true\".strip():\n",
    "                project_list.append(project[\"name\"])\n",
    "\n",
    "        return project_list"
   ]
  },
  {
   "cell_type": "code",
   "execution_count": null,
   "metadata": {},
   "outputs": [],
   "source": [
    "df = pd.read_csv('../project_data/all_projects.csv')"
   ]
  },
  {
   "cell_type": "code",
   "execution_count": null,
   "metadata": {},
   "outputs": [],
   "source": [
    "df_project_count = (\n",
    "    df[\n",
    "        [\n",
    "            \"project\",\n",
    "            \"class\",\n",
    "            \"statement_ps\",\n",
    "            \"covered_ps\",\n",
    "            \"on_slicer4j_slice\",\n",
    "            \"covered_slicer4J\",\n",
    "            \"on_porbs_slice\",\n",
    "            \"covered_porbs\",\n",
    "            \"required_ps\",\n",
    "            \"pseudotested_ps\",\n",
    "            \"covgap_on_porbs_slice\",\n",
    "            \"covgap_on_slicer4j_slice\",\n",
    "        ]\n",
    "    ]\n",
    "    .groupby(\"class\")\n",
    "    .agg(\"sum\")\n",
    ")\n"
   ]
  },
  {
   "cell_type": "code",
   "execution_count": null,
   "metadata": {},
   "outputs": [],
   "source": [
    "df_table = df_project_count\n",
    "\n",
    "total = df_table.sum()\n",
    "\n",
    "df_table[\"pct_is_covered_ps\"] = df_table[\"covered_ps\"] / df_table[\"statement_ps\"] * 100\n",
    "\n",
    "\n",
    "df_table = df_table[\n",
    "    [\n",
    "        \"project\",\n",
    "        \"statement_ps\",\n",
    "        \"covered_ps\",\n",
    "        \"pct_is_covered_ps\",\n",
    "        \"on_slicer4j_slice\",\n",
    "        \"covered_slicer4J\",\n",
    "        \"covgap_on_slicer4j_slice\",\n",
    "        \"on_porbs_slice\",\n",
    "        \"covered_porbs\",\n",
    "        \"covgap_on_porbs_slice\",\n",
    "        \"required_ps\",\n",
    "        \"pseudotested_ps\",\n",
    "    ]\n",
    "]\n",
    "df_table.sort_values(by=\"project\", inplace=True)\n",
    "df_table.drop(columns=[\"project\"], inplace=True)\n",
    "df_table.loc[\"Total\"] = total\n",
    "\n",
    "print(df_table)"
   ]
  },
  {
   "cell_type": "code",
   "execution_count": null,
   "metadata": {},
   "outputs": [],
   "source": [
    "df_table.to_latex(\n",
    "    header=False,\n",
    "    index=True,\n",
    "    na_rep=\"-\",\n",
    "    escape=True,\n",
    "    float_format=\"{:.0f}\".format,\n",
    ")"
   ]
  }
 ],
 "metadata": {
  "kernelspec": {
   "display_name": ".venv",
   "language": "python",
   "name": "python3"
  },
  "language_info": {
   "codemirror_mode": {
    "name": "ipython",
    "version": 3
   },
   "file_extension": ".py",
   "mimetype": "text/x-python",
   "name": "python",
   "nbconvert_exporter": "python",
   "pygments_lexer": "ipython3",
   "version": "3.12.8"
  }
 },
 "nbformat": 4,
 "nbformat_minor": 2
}
