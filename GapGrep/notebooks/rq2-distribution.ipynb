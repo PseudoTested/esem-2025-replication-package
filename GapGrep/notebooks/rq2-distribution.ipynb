{
 "cells": [
  {
   "cell_type": "markdown",
   "metadata": {},
   "source": [
    "# RQ2: Distribution "
   ]
  },
  {
   "cell_type": "code",
   "execution_count": null,
   "metadata": {},
   "outputs": [],
   "source": [
    "import matplotlib.pyplot as plt\n",
    "import numpy as np\n",
    "import pandas as pd\n",
    "\n",
    "data_dir = '../project_data/'\n",
    "df = pd.read_csv(data_dir + \"all_projects.csv\")\n",
    "\n",
    "df[\"unique_identifier\"] = df[\"project\"].astype(str) + df[\"class\"].astype(str) + df[\"line_no\"].astype(str)\n",
    "df = df.sort_values('unique_identifier', ascending = True).reset_index(drop=True)\n",
    "\n",
    "covered = set(df.loc[df['is_clover_covered'] == True, 'unique_identifier'].unique())\n",
    "porbs = set(df.loc[df['on_porbs_slice'] == True, 'unique_identifier'].unique())\n",
    "slicer4j = set(df.loc[df['on_slicer4j_slice'] == True, 'unique_identifier'].unique())\n",
    "pseudosweep = set(df.loc[df['required_ps'] == True, 'unique_identifier'].unique())\n",
    "cov = set(df.loc[df['covered_ps'] == True, 'unique_identifier'].unique())\n"
   ]
  },
  {
   "cell_type": "markdown",
   "metadata": {},
   "source": []
  },
  {
   "cell_type": "code",
   "execution_count": null,
   "metadata": {},
   "outputs": [],
   "source": [
    "# Slice Intersections\n",
    "\n",
    "cov_porbs = porbs.intersection(cov)\n",
    "cov_slicer4j = slicer4j.intersection(cov)\n",
    "\n",
    "# pairs\n",
    "cov_porbs_slicer4j = cov_porbs.intersection(cov_slicer4j)\n",
    "cov_porbs_pseudosweep = cov_porbs.intersection(pseudosweep)\n",
    "cov_slicer4j_pseudosweep = cov_slicer4j.intersection(pseudosweep)\n",
    "\n",
    "# overall\n",
    "overall_intersection = cov_porbs_slicer4j.intersection(pseudosweep)\n",
    "\n",
    "print(\"cov_porbs_slicer4j\", len(cov_porbs_slicer4j))\n",
    "print(\"cov_porbs_pseudosweep\", len(cov_porbs_pseudosweep))\n",
    "print(\"cov_slicer4j_pseudosweep\", len(cov_slicer4j_pseudosweep))\n",
    "print(\"overall_intersection\", len(overall_intersection))"
   ]
  },
  {
   "cell_type": "code",
   "execution_count": null,
   "metadata": {},
   "outputs": [],
   "source": [
    "# Oracle Gap Intersections\n",
    "\n",
    "# Cov Gaps\n",
    "gap_porbs = cov.difference(porbs)\n",
    "gap_slicer4j = cov.difference(slicer4j)\n",
    "gap_pseudosweep = cov.difference(pseudosweep)\n",
    "\n",
    "print(\"gap_porbs\", gap_porbs)\n",
    "print(\"gap_slicer4j\", gap_slicer4j)\n",
    "print(\"gap_pseudosweep\",gap_pseudosweep)\n",
    "\n",
    "# Gap Intersections\n",
    "gap_porbs_slicer4j = gap_porbs.intersection(gap_slicer4j)\n",
    "gap_porbs_pseudosweep = gap_porbs.intersection(gap_pseudosweep)\n",
    "gap_slicer4j_pseudosweep = gap_slicer4j.intersection(gap_pseudosweep)\n",
    "print(\"gap_porbs_slicer4j\",gap_porbs_slicer4j)\n",
    "print(\"gap_porbs_pseudosweep\",gap_porbs_pseudosweep)\n",
    "print(\"gap_slicer4j_pseudosweep\", gap_slicer4j_pseudosweep)\n",
    "\n",
    "overall_gap_intersection = gap_porbs.intersection(gap_slicer4j, gap_pseudosweep)\n",
    "print(\"overall_gap_intersection\", overall_gap_intersection)"
   ]
  },
  {
   "cell_type": "code",
   "execution_count": null,
   "metadata": {},
   "outputs": [],
   "source": [
    "def jaccard_similarity(set1, set2):\n",
    "  intersection = len(set1.intersection(set2))\n",
    "  union = len(set1.union(set2))\n",
    "  if union == 0:\n",
    "    return 0.0 \n",
    "  return intersection / union\n",
    "\n",
    "def jaccard_distance(set1, set2):\n",
    "  return 1 - jaccard_similarity(set1, set2)\n",
    "\n",
    "# Calculate Jaccard similarities\n",
    "jaccard_porbs_slicer4j = jaccard_similarity(gap_porbs, gap_slicer4j)\n",
    "jaccard_porbs_pseudosweep = jaccard_similarity(gap_porbs, gap_pseudosweep)\n",
    "jaccard_slicer4j_pseudosweep = jaccard_similarity(gap_slicer4j, gap_pseudosweep)\n",
    "\n",
    "\n",
    "# Print the results\n",
    "print(f\"Jaccard similarity (gap_porbs, gap_slicer4j): {jaccard_porbs_slicer4j}\")\n",
    "print(f\"Jaccard similarity (gap_porbs, gap_pseudosweep): {jaccard_porbs_pseudosweep}\")\n",
    "print(f\"Jaccard similarity (gap_slicer4j, gap_pseudosweep): {jaccard_slicer4j_pseudosweep}\")\n",
    "print()\n",
    "\n",
    "# Calculate Jaccard distances\n",
    "distance_porbs_slicer4j = jaccard_distance(gap_porbs, gap_slicer4j)\n",
    "distance_porbs_pseudosweep = jaccard_distance(gap_porbs, gap_pseudosweep)\n",
    "distance_slicer4j_pseudosweep = jaccard_distance(gap_slicer4j, gap_pseudosweep)\n",
    "\n",
    "# Print the results\n",
    "print(f\"Jaccard distance (gap_porbs, gap_slicer4j): {distance_porbs_slicer4j}\")\n",
    "print(f\"Jaccard distance (gap_porbs, gap_pseudosweep): {distance_porbs_pseudosweep}\")\n",
    "print(f\"Jaccard distance (gap_slicer4j, gap_pseudosweep): {distance_slicer4j_pseudosweep}\")\n",
    "\n"
   ]
  },
  {
   "cell_type": "code",
   "execution_count": null,
   "metadata": {},
   "outputs": [],
   "source": []
  }
 ],
 "metadata": {
  "kernelspec": {
   "display_name": ".venv",
   "language": "python",
   "name": "python3"
  },
  "language_info": {
   "codemirror_mode": {
    "name": "ipython",
    "version": 3
   },
   "file_extension": ".py",
   "mimetype": "text/x-python",
   "name": "python",
   "nbconvert_exporter": "python",
   "pygments_lexer": "ipython3",
   "version": "3.12.8"
  }
 },
 "nbformat": 4,
 "nbformat_minor": 2
}
