{
 "cells": [
  {
   "cell_type": "markdown",
   "metadata": {},
   "source": [
    "# Mutating the Gaps"
   ]
  },
  {
   "cell_type": "code",
   "execution_count": null,
   "metadata": {},
   "outputs": [],
   "source": [
    "import pandas as pd\n",
    "import matplotlib.pyplot as plt\n",
    "import seaborn as sns"
   ]
  },
  {
   "cell_type": "code",
   "execution_count": null,
   "metadata": {},
   "outputs": [],
   "source": [
    "# import mutants\n",
    "df_mutants = pd.read_csv(\"../project_data/all_projects.csv\")"
   ]
  },
  {
   "cell_type": "code",
   "execution_count": null,
   "metadata": {},
   "outputs": [],
   "source": [
    "# overall\n",
    "df_overall = (\n",
    "    df_mutants[\n",
    "        [\"class\", \"project\", \"pit_total\", \"pit_killed\", \"pit_survived\", \"pit_uncovered\"]\n",
    "    ]\n",
    "    .groupby(\"class\")\n",
    "    .agg(\"sum\")\n",
    ")\n",
    "df_overall[\"pit_ms\"] = df_overall[\"pit_killed\"] / df_overall[\"pit_total\"]\n",
    "df_overall.reset_index(inplace=True)"
   ]
  },
  {
   "cell_type": "code",
   "execution_count": null,
   "metadata": {},
   "outputs": [],
   "source": [
    "# gap_ms\n",
    "for project in df_mutants[\"class\"].unique():\n",
    "\n",
    "    # slicer4j_gap\n",
    "    df_s4j_covgap = df_mutants[\n",
    "        (df_mutants[\"covgap_on_slicer4j_slice\"] == True)\n",
    "        & (df_mutants[\"class\"] == project)\n",
    "    ]\n",
    "    if not df_s4j_covgap.empty:\n",
    "        ms_s4j_covgap = (\n",
    "            df_s4j_covgap[\"pit_killed\"].sum() / df_s4j_covgap[\"pit_total\"].sum()\n",
    "        )\n",
    "        df_overall.loc[(df_overall[\"class\"] == project), \"Slicer4J\"] = ms_s4j_covgap\n",
    "\n",
    "    # porbs_gap\n",
    "    df_porbs_covgap = df_mutants[\n",
    "        (df_mutants[\"covgap_on_porbs_slice\"] == True) & (df_mutants[\"class\"] == project)\n",
    "    ]\n",
    "\n",
    "    if not df_porbs_covgap.empty:\n",
    "        ms_porbs_covgap = (\n",
    "            df_porbs_covgap[\"pit_killed\"].sum() / df_porbs_covgap[\"pit_total\"].sum()\n",
    "        )\n",
    "        df_overall.loc[(df_overall[\"class\"] == project), \"PORBS\"] = ms_porbs_covgap\n",
    "\n",
    "    # pseudosweep_gap\n",
    "    df_pseudosweep_covgap = df_mutants[\n",
    "        (df_mutants[\"pseudotested_ps\"] == True) & (df_mutants[\"class\"] == project)\n",
    "    ]\n",
    "\n",
    "    if not df_pseudosweep_covgap.empty:\n",
    "        ms_pseudosweep_covgap = (\n",
    "            df_pseudosweep_covgap[\"pit_killed\"].sum()\n",
    "            / df_pseudosweep_covgap[\"pit_total\"].sum()\n",
    "        )\n",
    "        df_overall.loc[(df_overall[\"class\"] == project), \"PseudoSweep\"] = (\n",
    "            ms_pseudosweep_covgap\n",
    "        )\n",
    "\n",
    "    # break"
   ]
  },
  {
   "cell_type": "code",
   "execution_count": null,
   "metadata": {},
   "outputs": [],
   "source": [
    "\n",
    "df_overall.sort_values(\"class\", inplace=True)\n",
    "df_overall.sort_values(\"project\", inplace=True)\n",
    "\n",
    "sns.scatterplot(\n",
    "    x=df_overall[\"class\"], y=df_overall[\"Slicer4J\"], marker=\"o\", label=\"Slicer4J\"\n",
    ")\n",
    "sns.scatterplot(x=df_overall[\"class\"], y=df_overall[\"PORBS\"], marker=\"x\", label=\"PORBS\")\n",
    "sns.scatterplot(\n",
    "    x=df_overall[\"class\"], y=df_overall[\"PseudoSweep\"], marker=\"v\", label=\"PseudoSweep\"\n",
    ")\n",
    "\n",
    "plt.ylabel(\"Coverage Gap Mutation Score\")\n",
    "plt.xlabel(\"Class Under Test\")\n",
    "\n",
    "plt.xticks(rotation=45, ha=\"right\")\n",
    "plt.title(\"Coverage Gap Mutation Scores for each Class Under Test\")\n",
    "plt.savefig(\n",
    "    bbox_inches=\"tight\",\n",
    ")"
   ]
  },
  {
   "cell_type": "code",
   "execution_count": null,
   "metadata": {},
   "outputs": [],
   "source": [
    "gaps = df_overall[[\"Slicer4J\", \"PORBS\", \"PseudoSweep\"]]\n",
    "\n",
    "print(gaps.quantile(q=[0.0, 0.25, 0.5, 0.75, 1.0], axis=0, numeric_only=True))\n",
    "\n",
    "bp = sns.boxplot(gaps, color=\"tab:blue\")\n",
    "\n",
    "plt.ylabel(\"Coverage Gap Mutation Score\")\n",
    "plt.xlabel(\"Tool used to calculate gap\")\n",
    "plt.title(\"Coverage Gap Mutation Scores for each Tool\")\n",
    "\n",
    "plt.savefig(\n",
    "    bbox_inches=\"tight\",\n",
    ")"
   ]
  },
  {
   "cell_type": "code",
   "execution_count": null,
   "metadata": {},
   "outputs": [],
   "source": []
  }
 ],
 "metadata": {
  "kernelspec": {
   "display_name": ".venv",
   "language": "python",
   "name": "python3"
  },
  "language_info": {
   "codemirror_mode": {
    "name": "ipython",
    "version": 3
   },
   "file_extension": ".py",
   "mimetype": "text/x-python",
   "name": "python",
   "nbconvert_exporter": "python",
   "pygments_lexer": "ipython3",
   "version": "3.12.8"
  }
 },
 "nbformat": 4,
 "nbformat_minor": 2
}
