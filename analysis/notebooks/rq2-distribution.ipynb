{
 "cells": [
  {
   "cell_type": "markdown",
   "metadata": {},
   "source": [
    "# RQ3: Distribution "
   ]
  },
  {
   "cell_type": "markdown",
   "metadata": {},
   "source": []
  },
  {
   "cell_type": "code",
   "execution_count": null,
   "metadata": {},
   "outputs": [],
   "source": []
  },
  {
   "cell_type": "markdown",
   "metadata": {},
   "source": [
    "## Euler Diagram"
   ]
  },
  {
   "cell_type": "code",
   "execution_count": null,
   "metadata": {},
   "outputs": [],
   "source": [
    "import matplotlib.pyplot as plt\n",
    "import numpy as np\n",
    "import pandas as pd\n",
    "from matplotlib_set_diagrams import EulerDiagram, get_subsets\n",
    "\n",
    "data_dir = '../project_data/'\n",
    "df = pd.read_csv(data_dir + \"all_projects.csv\")\n",
    "\n",
    "df[\"unique_identifier\"] = df[\"project\"].astype(str) + df[\"class\"].astype(str) + df[\"line_no\"].astype(str)\n",
    "df = df.sort_values('unique_identifier', ascending = True).reset_index(drop=True)\n",
    "\n",
    "covered = set(df.loc[df['is_clover_covered'] == True, 'unique_identifier'].unique())\n",
    "porbs = set(df.loc[df['on_porbs_slice'] == True, 'unique_identifier'].unique())\n",
    "slicer4j = set(df.loc[df['on_slicer4j_slice'] == True, 'unique_identifier'].unique())\n",
    "pseudosweep = set(df.loc[df['required_ps'] == True, 'unique_identifier'].unique())\n",
    "cov = set(df.loc[df['covered_ps'] == True, 'unique_identifier'].unique())\n",
    "\n",
    "print(porbs)\n",
    "\n",
    "set_list = [\n",
    "    porbs, \n",
    "    slicer4j, \n",
    "    pseudosweep,\n",
    "    # covered, \n",
    "    cov\n",
    "    ]\n",
    "\n",
    "fig, ax = plt.subplots()\n",
    "\n",
    "diagram = EulerDiagram.from_sets(\n",
    "    set_list,\n",
    "    ax=ax,\n",
    "    set_labels=[\n",
    "        \"Observational\\nSlice\", \n",
    "        \"Dynamic\\nSlice\",  \n",
    "        \"Required\", \n",
    "        \"\\n\\n\\n\\n\\nPS_Covered\"\n",
    "        ],\n",
    ")\n",
    "\n",
    "print(get_subsets(set_list))\n",
    "\n",
    "# Customize appearance using the correct attribute name: subset_artists\n",
    "for artist in diagram.subset_artists.values():\n",
    "    artist.set_alpha(0.4)\n",
    "    artist.set_edgecolor(\"black\")\n",
    "\n",
    "\n",
    "plt.title(\"Lines Fulfilling Each Criterion\")\n",
    "plt.tight_layout()\n"
   ]
  },
  {
   "cell_type": "markdown",
   "metadata": {},
   "source": []
  },
  {
   "cell_type": "markdown",
   "metadata": {},
   "source": [
    "## Calculating Slice and Required Intersections\n"
   ]
  },
  {
   "cell_type": "code",
   "execution_count": null,
   "metadata": {},
   "outputs": [],
   "source": [
    "cov_porbs = porbs.intersection(cov)\n",
    "cov_slicer4j = slicer4j.intersection(cov)\n",
    "\n",
    "# pairs\n",
    "cov_porbs_slicer4j = cov_porbs.intersection(cov_slicer4j)\n",
    "cov_porbs_pseudosweep = cov_porbs.intersection(pseudosweep)\n",
    "cov_slicer4j_pseudosweep = cov_slicer4j.intersection(pseudosweep)\n",
    "\n",
    "# overall\n",
    "overall_intersection = cov_porbs_slicer4j.intersection(pseudosweep)\n",
    "\n",
    "print(\"cov_porbs_slicer4j\", len(cov_porbs_slicer4j))\n",
    "print(\"cov_porbs_pseudosweep\", len(cov_porbs_pseudosweep))\n",
    "print(\"cov_slicer4j_pseudosweep\", len(cov_slicer4j_pseudosweep))\n",
    "print(\"overall_intersection\", len(overall_intersection))"
   ]
  },
  {
   "cell_type": "markdown",
   "metadata": {},
   "source": [
    "## Calculating Gap Intersections"
   ]
  },
  {
   "cell_type": "code",
   "execution_count": null,
   "metadata": {},
   "outputs": [],
   "source": [
    "# Cov Gaps\n",
    "gap_porbs = cov.difference(porbs)\n",
    "gap_slicer4j = cov.difference(slicer4j)\n",
    "gap_pseudosweep = cov.difference(pseudosweep)\n",
    "\n",
    "print(\"gap_porbs\", gap_porbs)\n",
    "print(\"gap_slicer4j\", gap_slicer4j)\n",
    "print(\"gap_pseudosweep\",gap_pseudosweep)\n",
    "\n",
    "# Gap Intersections\n",
    "gap_porbs_slicer4j = gap_porbs.intersection(gap_slicer4j)\n",
    "gap_porbs_pseudosweep = gap_porbs.intersection(gap_pseudosweep)\n",
    "gap_slicer4j_pseudosweep = gap_slicer4j.intersection(gap_pseudosweep)\n",
    "print(\"gap_porbs_slicer4j\",gap_porbs_slicer4j)\n",
    "print(\"gap_porbs_pseudosweep\",gap_porbs_pseudosweep)\n",
    "print(\"gap_slicer4j_pseudosweep\", gap_slicer4j_pseudosweep)\n",
    "\n",
    "overall_gap_intersection = gap_porbs.intersection(gap_slicer4j, gap_pseudosweep)\n",
    "print(\"overall_gap_intersection\", overall_gap_intersection)"
   ]
  },
  {
   "cell_type": "markdown",
   "metadata": {},
   "source": [
    "## Visualising the Coverage Gaps\n"
   ]
  },
  {
   "cell_type": "code",
   "execution_count": null,
   "metadata": {},
   "outputs": [],
   "source": [
    "def get_symbol(prefix, line) -> str:\n",
    "    id = f'{prefix}{line}'\n",
    "    \n",
    "    # overall intersection\n",
    "    if id in overall_gap_intersection:\n",
    "        return r\"$\\blacksquare$\", \"overall_gap_intersection\"\n",
    "    \n",
    "    # overlaps\n",
    "    if id in gap_porbs_pseudosweep:\n",
    "        return r\"$\\boxtimes$\", \"gap_porbs_pseudosweep\"\n",
    "    if id in gap_porbs_slicer4j:\n",
    "        return r\"$\\boxminus$\", \"gap_porbs_slicer4j\"\n",
    "    if id in gap_slicer4j_pseudosweep:\n",
    "        return r\"$\\boxplus$\", \"gap_slicer4j_pseudosweep\"\n",
    "\n",
    "    # individual \n",
    "    if id in gap_porbs:\n",
    "        return r\"$\\circledcirc$\", \"gap_porbs\"\n",
    "    if id in gap_pseudosweep:\n",
    "        return r\"$\\circleddash$\", \"gap_pseudosweep\"\n",
    "    if id in gap_slicer4j:\n",
    "        return r\"$\\circledast$\", \"gap_slicer4j\"\n",
    "    return None, \"\"\n",
    "    "
   ]
  },
  {
   "cell_type": "code",
   "execution_count": null,
   "metadata": {},
   "outputs": [],
   "source": [
    "df_visualize = pd.DataFrame()\n",
    "\n",
    "statement_types = pd.DataFrame(columns=[\"Type\", \"Gap\"])\n",
    "\n",
    "\n",
    "for project, clazz in set(zip(df[\"project\"], df[\"class\"])):\n",
    "    prefix = f\"{project}{clazz}\"\n",
    "    line_total = len(df.loc[(df[\"project\"] == project) & (df[\"class\"] == clazz)])\n",
    "    # print(prefix, line_total)\n",
    "\n",
    "    symbols = []\n",
    "    statement_types = pd.DataFrame(columns=[\"Type\", \"Gap\"])\n",
    "\n",
    "    # Stmt gap locations\n",
    "    for line in range(1, line_total + 1):\n",
    "        symbol_latex, gap = get_symbol(prefix, line)\n",
    "        if symbol_latex is not None:\n",
    "            # print(symbol_latex)\n",
    "            symbols.append(\"\\hgap\" + symbol_latex.strip() + \"\\hgap\")\n",
    "        statement_type = df.loc[\n",
    "            (df[\"project\"] == project)\n",
    "            & (df[\"class\"] == clazz)\n",
    "            & (df[\"line_no\"] == line),\n",
    "            \"statement_type\",\n",
    "        ]\n",
    "        if (len(statement_type)) > 0 and str(statement_type.values[0]) != \"nan\":\n",
    "            statement_type = statement_type.values[0]\n",
    "            statement_types.loc[len(statement_types)] = [statement_type, gap]\n",
    "            # statement_types.loc[len(statement_types)] = [statement_type, \"\"]\n",
    "\n",
    "    symbols.sort()\n",
    "    symbols.insert(0, clazz)\n",
    "\n",
    "    df_visualize = pd.concat([df_visualize, pd.DataFrame([symbols[:60]])])\n",
    "\n",
    "    # print(len(df_visualize))\n",
    "    # break # TODO: temp for debugging\n",
    "\n",
    "# Output latex\n",
    "df_visualize.sort_values([0,1], inplace=True)\n",
    "df_visualize.drop([0], axis=1, inplace=True)\n",
    "df_visualize.to_latex(\n",
    "    index=False,\n",
    "    na_rep=\"\\hgap\\hgap\",\n",
    "    )\n",
    "print(df_visualize)"
   ]
  },
  {
   "cell_type": "code",
   "execution_count": null,
   "metadata": {},
   "outputs": [],
   "source": [
    "def jaccard_similarity(set1, set2):\n",
    "  intersection = len(set1.intersection(set2))\n",
    "  union = len(set1.union(set2))\n",
    "  if union == 0:\n",
    "    return 0.0 \n",
    "  return intersection / union\n",
    "\n",
    "def jaccard_distance(set1, set2):\n",
    "  return 1 - jaccard_similarity(set1, set2)\n",
    "\n",
    "# Calculate Jaccard similarities\n",
    "jaccard_porbs_slicer4j = jaccard_similarity(gap_porbs, gap_slicer4j)\n",
    "jaccard_porbs_pseudosweep = jaccard_similarity(gap_porbs, gap_pseudosweep)\n",
    "jaccard_slicer4j_pseudosweep = jaccard_similarity(gap_slicer4j, gap_pseudosweep)\n",
    "\n",
    "\n",
    "# Print the results\n",
    "print(f\"Jaccard similarity (gap_porbs, gap_slicer4j): {jaccard_porbs_slicer4j}\")\n",
    "print(f\"Jaccard similarity (gap_porbs, gap_pseudosweep): {jaccard_porbs_pseudosweep}\")\n",
    "print(f\"Jaccard similarity (gap_slicer4j, gap_pseudosweep): {jaccard_slicer4j_pseudosweep}\")\n",
    "print()\n",
    "\n",
    "# Calculate Jaccard distances\n",
    "distance_porbs_slicer4j = jaccard_distance(gap_porbs, gap_slicer4j)\n",
    "distance_porbs_pseudosweep = jaccard_distance(gap_porbs, gap_pseudosweep)\n",
    "distance_slicer4j_pseudosweep = jaccard_distance(gap_slicer4j, gap_pseudosweep)\n",
    "\n",
    "# Print the results\n",
    "print(f\"Jaccard distance (gap_porbs, gap_slicer4j): {distance_porbs_slicer4j}\")\n",
    "print(f\"Jaccard distance (gap_porbs, gap_pseudosweep): {distance_porbs_pseudosweep}\")\n",
    "print(f\"Jaccard distance (gap_slicer4j, gap_pseudosweep): {distance_slicer4j_pseudosweep}\")\n",
    "\n"
   ]
  },
  {
   "cell_type": "code",
   "execution_count": null,
   "metadata": {},
   "outputs": [],
   "source": []
  }
 ],
 "metadata": {
  "kernelspec": {
   "display_name": ".venv",
   "language": "python",
   "name": "python3"
  },
  "language_info": {
   "codemirror_mode": {
    "name": "ipython",
    "version": 3
   },
   "file_extension": ".py",
   "mimetype": "text/x-python",
   "name": "python",
   "nbconvert_exporter": "python",
   "pygments_lexer": "ipython3",
   "version": "3.12.8"
  }
 },
 "nbformat": 4,
 "nbformat_minor": 2
}
