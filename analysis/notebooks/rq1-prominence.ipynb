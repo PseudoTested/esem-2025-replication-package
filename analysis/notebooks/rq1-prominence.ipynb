{
 "cells": [
  {
   "cell_type": "markdown",
   "metadata": {},
   "source": [
    "# RQ1: Prominence\n",
    "\n",
    "## Are there coverage gaps present between statement coverage and the test-oracle adequacy metrics?\n",
    "\n",
    "Answering this RQ:\n",
    "For each project identify if there is a coverage gap > 0. Create a table that shows the proportion of element on a given slice, the coverage, and the checked coverage.\n"
   ]
  },
  {
   "cell_type": "code",
   "execution_count": null,
   "metadata": {},
   "outputs": [],
   "source": [
    "# imports and helper methods\n",
    "import csv\n",
    "from pathlib import Path\n",
    "import numpy as np\n",
    "import pandas as pd\n",
    "\n",
    "def read_project_list(path):\n",
    "    project_list_path = path\n",
    "    with open(project_list_path, \"r\") as project_list_csv:\n",
    "        # read project csv\n",
    "        csv_reader = csv.DictReader(project_list_csv)\n",
    "        project_dict = [row for row in csv_reader]\n",
    "\n",
    "        # import each active project\n",
    "        project_list = []\n",
    "\n",
    "        for project in project_dict:\n",
    "            if project[\"active\"] == \"true\".strip():\n",
    "                project_list.append(project[\"name\"])\n",
    "\n",
    "        return project_list"
   ]
  },
  {
   "cell_type": "code",
   "execution_count": null,
   "metadata": {},
   "outputs": [],
   "source": [
    "df = pd.read_csv('../project_data/all_projects.csv')"
   ]
  },
  {
   "cell_type": "code",
   "execution_count": null,
   "metadata": {},
   "outputs": [],
   "source": [
    "df_project_count = (\n",
    "    df[\n",
    "        [\n",
    "            \"project\",\n",
    "            \"class\",\n",
    "            \"statement_ps\",\n",
    "            \"covered_ps\",\n",
    "            \"on_slicer4j_slice\",\n",
    "            \"covered_slicer4J\",\n",
    "            \"on_porbs_slice\",\n",
    "            \"covered_porbs\",\n",
    "            \"required_ps\",\n",
    "            \"pseudotested_ps\",\n",
    "            \"covgap_on_porbs_slice\",\n",
    "            \"covgap_on_slicer4j_slice\",\n",
    "        ]\n",
    "    ]\n",
    "    .groupby(\"class\")\n",
    "    .agg(\"sum\")\n",
    ")\n"
   ]
  },
  {
   "cell_type": "code",
   "execution_count": null,
   "metadata": {},
   "outputs": [],
   "source": [
    "df_table = df_project_count\n",
    "\n",
    "total = df_table.sum()\n",
    "\n",
    "# df_table[\"pct_is_covered_clover\"] = df_table[\"is_clover_covered\"] / df_table[\"NLOC\"] * 100\n",
    "df_table[\"pct_is_covered_ps\"] = df_table[\"covered_ps\"] / df_table[\"statement_ps\"] * 100\n",
    "\n",
    "\n",
    "df_table = df_table[\n",
    "    [\n",
    "        \"project\",\n",
    "        \"statement_ps\",\n",
    "        \"covered_ps\",\n",
    "        \"pct_is_covered_ps\",\n",
    "        \"on_slicer4j_slice\",\n",
    "        \"covered_slicer4J\",\n",
    "        \"covgap_on_slicer4j_slice\",\n",
    "        \"on_porbs_slice\",\n",
    "        \"covered_porbs\",\n",
    "        \"covgap_on_porbs_slice\",\n",
    "        \"required_ps\",\n",
    "        \"pseudotested_ps\",\n",
    "    ]\n",
    "]\n",
    "df_table.sort_values(by=\"project\", inplace=True)\n",
    "df_table.drop(columns=[\"project\"], inplace=True)\n",
    "df_table.loc[\"Total\"] = total\n",
    "\n",
    "print(df_table)"
   ]
  },
  {
   "cell_type": "code",
   "execution_count": null,
   "metadata": {},
   "outputs": [],
   "source": [
    "df_table.to_latex(\n",
    "    # buf=\"/Users/meganmaton/Repos/Papers/cc-orbs-ps-paper/table-data/coverage-gaps.tex\",\n",
    "    # columns=[\n",
    "    #     \"project_name\",\n",
    "    #     \"NLOC\",\n",
    "    #     \"is_covered_clover\",\n",
    "    #     \"pct_is_covered_clover\",\n",
    "    #     \"bar_is_covered_clover\"\n",
    "    #     \"on_slicer4j_ds_slice\",\n",
    "    #     \"covgap_on_slicer4j_ds_slice\",\n",
    "    #     \"bar_on_slicer4j_ds_slice\"\n",
    "    #     \"on_porbs_slice\",\n",
    "    #     \"covgap_on_porbs_slice\",\n",
    "    #     \"bar_on_porbs_slice\"\n",
    "    #     \"is_required_ps\",\n",
    "    #     \"is_pseudotested_ps\",\n",
    "    #     \"bar_is_required_ps\"\n",
    "    # ],\n",
    "    header=False,\n",
    "    index=True,\n",
    "    na_rep=\"-\",\n",
    "    escape=True,\n",
    "    float_format=\"{:.0f}\".format,\n",
    ")"
   ]
  },
  {
   "cell_type": "code",
   "execution_count": null,
   "metadata": {},
   "outputs": [],
   "source": [
    "mismatched_classes = df_project_count[\n",
    "    (df_project_count[\"required_ps\"] + df_project_count[\"pseudotested_ps\"]) != df_project_count[\"covered_ps\"]\n",
    "]\n",
    "\n",
    "if not mismatched_classes.empty:\n",
    "    print(\"The following classes have a mismatch where 'required_ps' + 'pseudotested_ps' is not equal to 'covered_ps':\")\n",
    "    print(mismatched_classes)\n",
    "else:\n",
    "    print(\"For all classes, 'required_ps' + 'pseudotested_ps' equals 'covered_ps'.\")\n"
   ]
  },
  {
   "cell_type": "code",
   "execution_count": null,
   "metadata": {},
   "outputs": [],
   "source": [
    "mismatched_lines = df[\n",
    "    (\n",
    "        ((df[\"required_ps\"] == True) & (df[\"pseudotested_ps\"] == True))\n",
    "        | ((df[\"required_ps\"] == False)\n",
    "        & ((df[\"pseudotested_ps\"] == False) & (df[\"covered_ps\"] == True)))\n",
    "    )\n",
    "]\n",
    "\n",
    "if not mismatched_lines.empty:\n",
    "    print(\n",
    "        \"The following classes have a mismatch where 'required_ps' + 'pseudotested_ps' is not equal to 'covered_ps':\"\n",
    "    )\n",
    "    print(mismatched_lines)\n",
    "else:\n",
    "    print(\"For all lines, 'required_ps' + 'pseudotested_ps' equals 'covered_ps'.\")\n",
    "\n",
    "\n",
    "print(mismatched_lines)"
   ]
  }
 ],
 "metadata": {
  "kernelspec": {
   "display_name": ".venv",
   "language": "python",
   "name": "python3"
  },
  "language_info": {
   "codemirror_mode": {
    "name": "ipython",
    "version": 3
   },
   "file_extension": ".py",
   "mimetype": "text/x-python",
   "name": "python",
   "nbconvert_exporter": "python",
   "pygments_lexer": "ipython3",
   "version": "3.12.8"
  }
 },
 "nbformat": 4,
 "nbformat_minor": 2
}
